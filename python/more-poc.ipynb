{
 "cells": [
  {
   "cell_type": "code",
   "execution_count": 1,
   "metadata": {},
   "outputs": [],
   "source": [
    "import multiprocessing as mp\n",
    "\n",
    "import matplotlib.pylab as pl\n",
    "%matplotlib inline\n",
    "import numpy as np\n",
    "from sklearn.manifold import TSNE\n",
    "from tqdm import tqdm"
   ]
  },
  {
   "cell_type": "code",
   "execution_count": null,
   "metadata": {},
   "outputs": [
    {
     "name": "stdout",
     "output_type": "stream",
     "text": [
      "alpha = 1.0e+00\n",
      "9.897e-01 | 9.966e-01 | 9.966e-01\n",
      "9.897e-01 | 9.966e-01 | 9.966e-01\n",
      "9.897e-01 | 9.967e-01 | 9.967e-01\n",
      "9.897e-01 | 9.966e-01 | 9.966e-01\n",
      "9.897e-01 | 9.966e-01 | 9.966e-01\n",
      "9.897e-01 | 9.967e-01 | 9.967e-01\n",
      "9.897e-01 | 9.966e-01 | 9.966e-01\n",
      "9.897e-01 | 9.966e-01 | 9.967e-01\n",
      "9.897e-01 | 9.966e-01 | 9.966e-01\n",
      "9.897e-01 | 9.967e-01 | 9.967e-01\n",
      "alpha = 1.0e-01\n",
      "1.000e-01 | 7.946e-01 | 7.941e-01\n",
      "1.000e-01 | 7.925e-01 | 7.923e-01\n",
      "1.000e-01 | 7.920e-01 | 7.919e-01\n",
      "1.000e-01 | 7.905e-01 | 7.909e-01\n",
      "1.000e-01 | 7.892e-01 | 7.904e-01\n",
      "1.000e-01 | 7.967e-01 | 7.963e-01\n",
      "1.000e-01 | 7.925e-01 | 7.933e-01\n"
     ]
    }
   ],
   "source": [
    "for alpha in 0.1 ** np.arange(5):\n",
    "    print('alpha = %.1e' % alpha)\n",
    "    for i in range(10):\n",
    "        %run -i poc.py --alpha $alpha"
   ]
  },
  {
   "cell_type": "code",
   "execution_count": null,
   "metadata": {},
   "outputs": [],
   "source": [
    "ii = []\n",
    "linspace = np.linspace(0, 1, 10)\n",
    "for p_div in linspace:\n",
    "    %run -i poc.py --alpha 1e-3 --p-div $p_div\n",
    "    ii.append(h_item)"
   ]
  },
  {
   "cell_type": "code",
   "execution_count": null,
   "metadata": {},
   "outputs": [],
   "source": [
    "with mp.Pool(10) as pool:\n",
    "    ii = pool.map(TSNE(verbose=1).fit_transform, ii)"
   ]
  },
  {
   "cell_type": "code",
   "execution_count": null,
   "metadata": {},
   "outputs": [],
   "source": [
    "for p_div, i in zip(linspace, ii):\n",
    "    pl.figure()\n",
    "    pl.plot(i[:, 0], i[:, 1], 'bo')\n",
    "    pl.title('diversion probability: %f' % p_div)"
   ]
  },
  {
   "cell_type": "code",
   "execution_count": null,
   "metadata": {},
   "outputs": [],
   "source": [
    "for alpha in 0.1 ** np.arange(5):\n",
    "    print('alpha: %.1e' % alpha)\n",
    "    for i in range(5):\n",
    "        %run -i poc.py --alpha 1e0 --temporal"
   ]
  },
  {
   "cell_type": "code",
   "execution_count": null,
   "metadata": {},
   "outputs": [],
   "source": [
    "%run -i poc.py --n-factors {args.n_factors // args.n_sesses} --temporal"
   ]
  },
  {
   "cell_type": "code",
   "execution_count": null,
   "metadata": {},
   "outputs": [],
   "source": [
    "u = TSNE().fit_transform(np.squeeze(h_item))\n",
    "pl.plot(u[:, 0], u[:, 1], 'bo')"
   ]
  }
 ],
 "metadata": {
  "kernelspec": {
   "display_name": "Python 3",
   "language": "python",
   "name": "python3"
  },
  "language_info": {
   "codemirror_mode": {
    "name": "ipython",
    "version": 3
   },
   "file_extension": ".py",
   "mimetype": "text/x-python",
   "name": "python",
   "nbconvert_exporter": "python",
   "pygments_lexer": "ipython3",
   "version": "3.6.8"
  }
 },
 "nbformat": 4,
 "nbformat_minor": 2
}
